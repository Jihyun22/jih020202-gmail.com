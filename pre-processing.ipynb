{
 "cells": [
  {
   "cell_type": "code",
   "execution_count": 2,
   "metadata": {},
   "outputs": [],
   "source": [
    "import os\n",
    "import pandas as pd \n",
    "import numpy as np\n",
    "import multiprocessing # 여러 개의 일꾼 (cpu)들에게 작업을 분산시키는 역할\n",
    "from multiprocessing import Pool \n",
    "from functools import partial # 함수가 받는 인자들 중 몇개를 고정 시켜서 새롭게 파생된 함수를 형성하는 역할\n",
    "from data_loader_v2 import data_loader_v2\n",
    "from tqdm import tqdm_notebook\n",
    "from sklearn.ensemble import RandomForestClassifier\n",
    "import joblib # 모델을 저장하고 불러오는 역할"
   ]
  },
  {
   "cell_type": "code",
   "execution_count": 3,
   "metadata": {},
   "outputs": [],
   "source": [
    "train_folder = 'data/train/'\n",
    "test_folder = 'data/test/'\n",
    "train_label_path = 'data/train_label.csv'"
   ]
  },
  {
   "cell_type": "code",
   "execution_count": 4,
   "metadata": {},
   "outputs": [],
   "source": [
    "train_list = os.listdir(train_folder)\n",
    "test_list = os.listdir(test_folder)\n",
    "train_label = pd.read_csv(train_label_path, index_col=0)"
   ]
  },
  {
   "cell_type": "code",
   "execution_count": 5,
   "metadata": {},
   "outputs": [],
   "source": [
    "# 데이콘 제공\n",
    "def data_loader_all_v2(func, files, folder='', train_label=None, event_time=10, nrows=60):   \n",
    "    func_fixed = partial(func, folder=folder, train_label=train_label, event_time=event_time, nrows=nrows)     \n",
    "    if __name__ == '__main__':\n",
    "        pool = Pool(processes=multiprocessing.cpu_count()) \n",
    "        df_list = list(pool.imap(func_fixed, files)) \n",
    "        pool.close()\n",
    "        pool.join()        \n",
    "    combined_df = pd.concat(df_list)    \n",
    "    return combined_df"
   ]
  },
  {
   "cell_type": "code",
   "execution_count": 6,
   "metadata": {},
   "outputs": [],
   "source": [
    "train = data_loader_all_v2(data_loader_v2, train_list, folder=train_folder, train_label=train_label, event_time=10, nrows=60)"
   ]
  },
  {
   "cell_type": "code",
   "execution_count": 8,
   "metadata": {},
   "outputs": [],
   "source": [
    "test = data_loader_all_v2(data_loader_v2, test_list, folder=test_folder, train_label=None, event_time=20, nrows=60)"
   ]
  },
  {
   "cell_type": "code",
   "execution_count": 10,
   "metadata": {},
   "outputs": [],
   "source": [
    "#데이터 프레임생성\n",
    "X_train = train.drop(['label'], axis=1)\n",
    "y_train = train['label']"
   ]
  },
  {
   "cell_type": "code",
   "execution_count": 12,
   "metadata": {},
   "outputs": [
    {
     "data": {
      "text/html": [
       "<div>\n",
       "<style scoped>\n",
       "    .dataframe tbody tr th:only-of-type {\n",
       "        vertical-align: middle;\n",
       "    }\n",
       "\n",
       "    .dataframe tbody tr th {\n",
       "        vertical-align: top;\n",
       "    }\n",
       "\n",
       "    .dataframe thead th {\n",
       "        text-align: right;\n",
       "    }\n",
       "</style>\n",
       "<table border=\"1\" class=\"dataframe\">\n",
       "  <thead>\n",
       "    <tr style=\"text-align: right;\">\n",
       "      <th></th>\n",
       "      <th>V0000</th>\n",
       "      <th>V0001</th>\n",
       "      <th>V0002</th>\n",
       "      <th>V0003</th>\n",
       "      <th>V0004</th>\n",
       "      <th>V0005</th>\n",
       "      <th>V0006</th>\n",
       "      <th>V0007</th>\n",
       "      <th>V0008</th>\n",
       "      <th>V0009</th>\n",
       "      <th>...</th>\n",
       "      <th>V5112</th>\n",
       "      <th>V5113</th>\n",
       "      <th>V5114</th>\n",
       "      <th>V5115</th>\n",
       "      <th>V5116</th>\n",
       "      <th>V5117</th>\n",
       "      <th>V5118</th>\n",
       "      <th>V5119</th>\n",
       "      <th>V5120</th>\n",
       "      <th>label</th>\n",
       "    </tr>\n",
       "  </thead>\n",
       "  <tbody>\n",
       "    <tr>\n",
       "      <td>0</td>\n",
       "      <td>30.474394</td>\n",
       "      <td>8.691177</td>\n",
       "      <td>8.714483</td>\n",
       "      <td>8.687399</td>\n",
       "      <td>8.721230</td>\n",
       "      <td>207.697895</td>\n",
       "      <td>165.865730</td>\n",
       "      <td>-6.018877e-19</td>\n",
       "      <td>0.0</td>\n",
       "      <td>-0.002136</td>\n",
       "      <td>...</td>\n",
       "      <td>1.0</td>\n",
       "      <td>1.0</td>\n",
       "      <td>1.0</td>\n",
       "      <td>60.0</td>\n",
       "      <td>0.0</td>\n",
       "      <td>0.0</td>\n",
       "      <td>1.421620e-05</td>\n",
       "      <td>85.4</td>\n",
       "      <td>0.0</td>\n",
       "      <td>110</td>\n",
       "    </tr>\n",
       "    <tr>\n",
       "      <td>0</td>\n",
       "      <td>30.470463</td>\n",
       "      <td>8.736521</td>\n",
       "      <td>8.682769</td>\n",
       "      <td>8.717135</td>\n",
       "      <td>8.682402</td>\n",
       "      <td>192.665080</td>\n",
       "      <td>191.006871</td>\n",
       "      <td>-3.918758e-19</td>\n",
       "      <td>0.0</td>\n",
       "      <td>0.001710</td>\n",
       "      <td>...</td>\n",
       "      <td>1.0</td>\n",
       "      <td>1.0</td>\n",
       "      <td>1.0</td>\n",
       "      <td>60.0</td>\n",
       "      <td>0.0</td>\n",
       "      <td>0.0</td>\n",
       "      <td>-6.114455e-06</td>\n",
       "      <td>85.4</td>\n",
       "      <td>0.0</td>\n",
       "      <td>110</td>\n",
       "    </tr>\n",
       "    <tr>\n",
       "      <td>0</td>\n",
       "      <td>30.465427</td>\n",
       "      <td>8.753559</td>\n",
       "      <td>8.663426</td>\n",
       "      <td>8.700049</td>\n",
       "      <td>8.734147</td>\n",
       "      <td>187.065171</td>\n",
       "      <td>192.700238</td>\n",
       "      <td>-1.799179e-19</td>\n",
       "      <td>0.0</td>\n",
       "      <td>0.000493</td>\n",
       "      <td>...</td>\n",
       "      <td>1.0</td>\n",
       "      <td>1.0</td>\n",
       "      <td>1.0</td>\n",
       "      <td>60.0</td>\n",
       "      <td>0.0</td>\n",
       "      <td>0.0</td>\n",
       "      <td>-1.813291e-05</td>\n",
       "      <td>85.4</td>\n",
       "      <td>0.0</td>\n",
       "      <td>110</td>\n",
       "    </tr>\n",
       "    <tr>\n",
       "      <td>0</td>\n",
       "      <td>30.458532</td>\n",
       "      <td>8.715056</td>\n",
       "      <td>8.714854</td>\n",
       "      <td>8.717174</td>\n",
       "      <td>8.699257</td>\n",
       "      <td>188.500036</td>\n",
       "      <td>180.150567</td>\n",
       "      <td>-6.636971e-19</td>\n",
       "      <td>0.0</td>\n",
       "      <td>0.000318</td>\n",
       "      <td>...</td>\n",
       "      <td>1.0</td>\n",
       "      <td>1.0</td>\n",
       "      <td>1.0</td>\n",
       "      <td>60.0</td>\n",
       "      <td>0.0</td>\n",
       "      <td>0.0</td>\n",
       "      <td>-5.745568e-07</td>\n",
       "      <td>85.4</td>\n",
       "      <td>0.0</td>\n",
       "      <td>110</td>\n",
       "    </tr>\n",
       "    <tr>\n",
       "      <td>0</td>\n",
       "      <td>30.475773</td>\n",
       "      <td>8.790241</td>\n",
       "      <td>8.735125</td>\n",
       "      <td>8.703167</td>\n",
       "      <td>8.721030</td>\n",
       "      <td>193.269046</td>\n",
       "      <td>195.984890</td>\n",
       "      <td>-6.379752e-20</td>\n",
       "      <td>0.0</td>\n",
       "      <td>-0.000091</td>\n",
       "      <td>...</td>\n",
       "      <td>1.0</td>\n",
       "      <td>1.0</td>\n",
       "      <td>1.0</td>\n",
       "      <td>60.0</td>\n",
       "      <td>0.0</td>\n",
       "      <td>0.0</td>\n",
       "      <td>8.437883e-06</td>\n",
       "      <td>85.4</td>\n",
       "      <td>0.0</td>\n",
       "      <td>110</td>\n",
       "    </tr>\n",
       "  </tbody>\n",
       "</table>\n",
       "<p>5 rows × 5122 columns</p>\n",
       "</div>"
      ],
      "text/plain": [
       "       V0000     V0001     V0002     V0003     V0004       V0005       V0006  \\\n",
       "0  30.474394  8.691177  8.714483  8.687399  8.721230  207.697895  165.865730   \n",
       "0  30.470463  8.736521  8.682769  8.717135  8.682402  192.665080  191.006871   \n",
       "0  30.465427  8.753559  8.663426  8.700049  8.734147  187.065171  192.700238   \n",
       "0  30.458532  8.715056  8.714854  8.717174  8.699257  188.500036  180.150567   \n",
       "0  30.475773  8.790241  8.735125  8.703167  8.721030  193.269046  195.984890   \n",
       "\n",
       "          V0007  V0008     V0009  ...  V5112  V5113  V5114  V5115  V5116  \\\n",
       "0 -6.018877e-19    0.0 -0.002136  ...    1.0    1.0    1.0   60.0    0.0   \n",
       "0 -3.918758e-19    0.0  0.001710  ...    1.0    1.0    1.0   60.0    0.0   \n",
       "0 -1.799179e-19    0.0  0.000493  ...    1.0    1.0    1.0   60.0    0.0   \n",
       "0 -6.636971e-19    0.0  0.000318  ...    1.0    1.0    1.0   60.0    0.0   \n",
       "0 -6.379752e-20    0.0 -0.000091  ...    1.0    1.0    1.0   60.0    0.0   \n",
       "\n",
       "   V5117         V5118  V5119  V5120  label  \n",
       "0    0.0  1.421620e-05   85.4    0.0    110  \n",
       "0    0.0 -6.114455e-06   85.4    0.0    110  \n",
       "0    0.0 -1.813291e-05   85.4    0.0    110  \n",
       "0    0.0 -5.745568e-07   85.4    0.0    110  \n",
       "0    0.0  8.437883e-06   85.4    0.0    110  \n",
       "\n",
       "[5 rows x 5122 columns]"
      ]
     },
     "execution_count": 12,
     "metadata": {},
     "output_type": "execute_result"
    }
   ],
   "source": [
    "train.head()"
   ]
  },
  {
   "cell_type": "code",
   "execution_count": null,
   "metadata": {},
   "outputs": [],
   "source": [
    "#차원축소 분류 예측 성능 평가\n",
    "\n",
    "#원본 데이터세트\n",
    "#랜덤 포레스트 이용해 타깃 값이 디폴트 값을 3개 교차 검증 세트로 분류 예측\n",
    "from sklearn.ensemble import RandomForestClassifier\n",
    "from sklearn.model_selection import cross_val_score\n",
    "\n",
    "rcf=RandomForestClassifier(n_estimators=300, random_state=156)\n",
    "scores = cross_val_score(rcf, X_train, y_train, scoring='accuracy', cv=3)\n",
    "print('CV3인 경우 개별 fold 세트별 정확도 : ', scores)\n",
    "print('평균 정확도 : {0:.4f}'.format(np.mean(scores)))"
   ]
  },
  {
   "cell_type": "code",
   "execution_count": 15,
   "metadata": {},
   "outputs": [
    {
     "name": "stdout",
     "output_type": "stream",
     "text": [
      "CV3인 경우 PCA변환된 개별 fold 세트별 정확도 :  [0.64587394 0.64872501 0.66316174]\n",
      "PCA 변환 데이터 세트 평균 정확도 : 0.6526\n"
     ]
    }
   ],
   "source": [
    "#PCA차원축소\n",
    "from sklearn.decomposition import PCA\n",
    "from sklearn.preprocessing import StandardScaler\n",
    "#원본스케일링\n",
    "scaler = StandardScaler()\n",
    "df_scaled=scaler.fit_transform(X_train)\n",
    "#컴포넌트 임의 6개 선정\n",
    "pca=PCA(n_components=6)\n",
    "df_pca = pca.fit_transform(df_scaled)\n",
    "scores_pca = cross_val_score(rcf,df_pca, y_train, scoring='accuracy', cv=3)\n",
    "print('CV3인 경우 PCA변환된 개별 fold 세트별 정확도 : ', scores_pca)\n",
    "print('PCA 변환 데이터 세트 평균 정확도 : {0:.4f}'.format(np.mean(scores_pca)))"
   ]
  },
  {
   "cell_type": "code",
   "execution_count": 17,
   "metadata": {},
   "outputs": [
    {
     "name": "stderr",
     "output_type": "stream",
     "text": [
      "C:\\Users\\jih02\\AppData\\Local\\Continuum\\anaconda3\\lib\\site-packages\\sklearn\\discriminant_analysis.py:388: UserWarning: Variables are collinear.\n",
      "  warnings.warn(\"Variables are collinear.\")\n"
     ]
    },
    {
     "name": "stdout",
     "output_type": "stream",
     "text": [
      "CV3인 경우 lda변환된 개별 fold 세트별 정확도 :  [0.05183741 0.05201391 0.05213582]\n",
      "lda 변환 데이터 세트 평균 정확도 : 0.0520\n"
     ]
    }
   ],
   "source": [
    "#LDA\n",
    "from sklearn.discriminant_analysis import LinearDiscriminantAnalysis\n",
    "from sklearn.preprocessing import StandardScaler\n",
    "#원본스케일링\n",
    "scaler = StandardScaler()\n",
    "df_scaled=scaler.fit_transform(X_train)\n",
    "\n",
    "#컴포넌트 임의 6개 선정\n",
    "lda=LinearDiscriminantAnalysis(n_components=2)\n",
    "lda.fit(df_scaled, train.label)\n",
    "df_lda=lda.transform(df_scaled)\n",
    "scores_lda = cross_val_score(rcf, df_lda, y_train, scoring='accuracy', cv=3)\n",
    "print('CV3인 경우 lda변환된 개별 fold 세트별 정확도 : ', scores_lda)\n",
    "print('lda 변환 데이터 세트 평균 정확도 : {0:.4f}'.format(np.mean(scores_lda)))"
   ]
  },
  {
   "cell_type": "code",
   "execution_count": 23,
   "metadata": {},
   "outputs": [
    {
     "data": {
      "text/plain": [
       "(41350,)"
      ]
     },
     "execution_count": 23,
     "metadata": {},
     "output_type": "execute_result"
    }
   ],
   "source": [
    "y_train.shape"
   ]
  },
  {
   "cell_type": "code",
   "execution_count": 1,
   "metadata": {},
   "outputs": [
    {
     "ename": "NameError",
     "evalue": "name 'X_train' is not defined",
     "output_type": "error",
     "traceback": [
      "\u001b[1;31m---------------------------------------------------------------------------\u001b[0m",
      "\u001b[1;31mNameError\u001b[0m                                 Traceback (most recent call last)",
      "\u001b[1;32m<ipython-input-1-d2ba684acd0f>\u001b[0m in \u001b[0;36m<module>\u001b[1;34m\u001b[0m\n\u001b[1;32m----> 1\u001b[1;33m \u001b[0mX_train\u001b[0m\u001b[1;33m.\u001b[0m\u001b[0mshape\u001b[0m\u001b[1;33m\u001b[0m\u001b[1;33m\u001b[0m\u001b[0m\n\u001b[0m",
      "\u001b[1;31mNameError\u001b[0m: name 'X_train' is not defined"
     ]
    }
   ],
   "source": [
    "X_train.shape"
   ]
  },
  {
   "cell_type": "code",
   "execution_count": null,
   "metadata": {},
   "outputs": [],
   "source": [
    "from sklearn.discriminant_analysis import LinearDiscriminantAnalysis as LDA\n",
    "lda = LDA(n_components=2) # 2개의 에이겐 쌍을 선택\n",
    "X_train_lda = lda.fit_transform(X_train_std, y_train)\n",
    "X_test_lda = lda.fit_transform(X_test, y_train)\n",
    "\n",
    "from sklearn.linear_model import LogisticRegression # 로지스틱 분류로 성능 테스트\n",
    "lr = LogisticRegression()\n",
    "lr = lr.fit(X_train_lda, y_train)\n",
    "\n",
    "lr.predict_proba(X_test_lda[0,:]) #해당 분류에 속할 확률값으로 결과 도출\n",
    "y_pred_lr=lr.predict(X_test_lda) #예측한 분류값을 보고싶을 때\n",
    "\n",
    "from sklearn.metrics import accuracy_score\n",
    "print('Accuracy: %.2f' % accuracy_score(y_test, y_pred_lr))"
   ]
  }
 ],
 "metadata": {
  "kernelspec": {
   "display_name": "Python 3",
   "language": "python",
   "name": "python3"
  },
  "language_info": {
   "codemirror_mode": {
    "name": "ipython",
    "version": 3
   },
   "file_extension": ".py",
   "mimetype": "text/x-python",
   "name": "python",
   "nbconvert_exporter": "python",
   "pygments_lexer": "ipython3",
   "version": "3.7.4"
  }
 },
 "nbformat": 4,
 "nbformat_minor": 2
}
